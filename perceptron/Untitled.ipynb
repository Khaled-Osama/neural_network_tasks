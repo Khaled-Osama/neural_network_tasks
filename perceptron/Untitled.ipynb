{
 "cells": [
  {
   "cell_type": "markdown",
   "metadata": {},
   "source": [
    "# Task 1\n",
    "\n"
   ]
  },
  {
   "cell_type": "code",
   "execution_count": 1,
   "metadata": {},
   "outputs": [],
   "source": [
    "import numpy as np\n",
    "from matplotlib import pyplot as plt\n",
    "import tkinter as tk\n",
    "from tkinter import Label, Entry, Radiobutton, Button\n",
    "from sklearn.model_selection import train_test_split\n",
    "import pandas as pd\n",
    "from sklearn.metrics import accuracy_score\n",
    "from sklearn.metrics import confusion_matrix\n",
    "from sklearn.utils import shuffle\n",
    "import seaborn as sn"
   ]
  },
  {
   "cell_type": "markdown",
   "metadata": {},
   "source": [
    "# Loading Data\n",
    "\n",
    "## Overview\n",
    "this function loading data from text file and split them to training and testing set.\n",
    "there are 50 example for each of 3 classes we can shuffle each f these classes separately and \n",
    "combine these traninig example in X_training and testing examples in X_testing\n",
    "there 2 options for loading data:\n",
    "1. loading all data (3 classes and 4 features)\n",
    "1. loading specific 2 classes and specific 2 features then split them into training and testing sets.\n",
    "\n",
    "***\n",
    "\n",
    "## Parameters\n",
    "features -> this is a Dictionary which is passed in case of loading a specific feautures\n",
    "            it contains the chosen features indices\n",
    "            \n",
    "classes -> this is a Dictionary which is passed in case of loading a specific classes\n",
    "            it contains the chosen classes indices\n",
    "       \n",
    "all_data -> Boolean which acts as a flag to discriminate between the 2 options\n"
   ]
  },
  {
   "cell_type": "code",
   "execution_count": 2,
   "metadata": {},
   "outputs": [],
   "source": [
    "def load_data(features=None, classes=None, all_data=False):\n",
    "    \n",
    "    file_name = \"IrisData.txt\"\n",
    "    df = pd.read_csv(file_name)\n",
    "    \n",
    "\n",
    "    if all_data:\n",
    "        \n",
    "        Map = {\"Iris-setosa\":0,\n",
    "      \"Iris-versicolor\":1,\n",
    "      \"Iris-virginica\":2}\n",
    "        \n",
    "        X = df.iloc[:, 0:4].values\n",
    "        Y = df.iloc[:, 4].values\n",
    "        Y = [Map[x] for x in Y]\n",
    "        Y = np.asarray(Y, dtype=np.float32)\n",
    "        Y = Y[:, np.newaxis]\n",
    "        return X, Y\n",
    "        \n",
    "    \n",
    "    c1, c2 = classes\n",
    "    x1, x2 = features\n",
    "    \n",
    "    indices1 = np.arange(50*c1, (c1+1)*50) \n",
    "    indices2 = np.arange(50*c2, 50*(c2+1))\n",
    "    \n",
    "    X = df.iloc[:, [x1, x2]].values\n",
    "\n",
    "    Y = np.ones((50, 1))\n",
    "    X1_training, X1_testing, Y1_training, Y1_testing = train_test_split(X[indices1, :], Y, test_size=0.4, random_state=0)\n",
    "    Y[:,:] = -1\n",
    "    X2_training, X2_testing, Y2_training, Y2_testing = train_test_split(X[indices2, :], Y, test_size=0.4, random_state=0)\n",
    "    \n",
    "    X_training = np.concatenate((X1_training, X2_training), axis=0)\n",
    "    X_testing = np.concatenate((X1_testing, X2_testing), axis=0)\n",
    "    \n",
    "    Y_training = np.concatenate((Y1_training, Y2_training), axis=0)\n",
    "    Y_testing = np.concatenate((Y1_testing, Y2_testing), axis=0)\n",
    "    \n",
    "    X_training, Y_training = shuffle(X_training, Y_training, random_state=0)\n",
    "    X_testing, Y_testing = shuffle(X_testing, Y_testing)\n",
    "    \n",
    "    return X_training, X_testing, Y_training, Y_testing"
   ]
  },
  {
   "cell_type": "markdown",
   "metadata": {},
   "source": [
    "# `Plot`\n",
    "\n",
    "## Overview\n",
    "this function is ploating the data to show it in the plan it takes a specific 2 features and draw the plane\n",
    "by coloring each class with a different color to notice correlation between data.\n",
    "\n",
    "***\n",
    "\n",
    "## Parameters\n",
    "X1 -> its a numpy array which has a (150, 1) dimension that means 1 feature for 150 example.\n",
    "X2 -> it's also numpy array with the same dimension as x1 but contains different feature."
   ]
  },
  {
   "cell_type": "code",
   "execution_count": 3,
   "metadata": {},
   "outputs": [],
   "source": [
    "def plot(X1, X2):\n",
    "    plt.figure('fig1')\n",
    "    plt.scatter(X1[:50], X2[:50], color='red')\n",
    "    plt.scatter(X1[50:100], X2[50:100], color='green')\n",
    "    plt.scatter(X1[100:150], X2[100:150], color='blue')\n",
    "    plt.xlabel('X1')\n",
    "    plt.ylabel('X2')\n",
    "    plt.show()"
   ]
  },
  {
   "cell_type": "markdown",
   "metadata": {},
   "source": [
    "# `Signum`\n",
    "\n",
    "## Overview\n",
    "this function apply the <b>non linearty</b> to the output which called activation function \n",
    "if x>0 then y = 1\n",
    "if x<0 the y = -1\n",
    "if x=0 the y = 0\n",
    "\n",
    "***\n",
    "\n",
    "# Parameters\n",
    "X -> numpy array which is the output of the perceptron in the training phase and the prediction "
   ]
  },
  {
   "cell_type": "code",
   "execution_count": 4,
   "metadata": {},
   "outputs": [],
   "source": [
    "def signum(X):\n",
    "    X[X>0] = 1\n",
    "    X[X<0] = -1 \n",
    "    return X"
   ]
  },
  {
   "cell_type": "markdown",
   "metadata": {},
   "source": [
    "# `Train`\n",
    "\n",
    "## Overview\n",
    "- this function takes training examples by which the perceptron will learn from it.\n",
    "- our aim from learning the neuron is to find an equation that can split 2 different classes.\n",
    "\n",
    "***\n",
    "\n",
    "## Algorithm steps\n",
    "\n",
    "1. randomly inializing the equation coffecients and the biase.\n",
    "1. calculate the predction labels\n",
    "1. apply activation function `signum`\n",
    "1. finally update weights.\n",
    "\n",
    "***\n",
    "\n",
    "## Parameters\n",
    "\n",
    "- `X_training` the training data each example represented in one row ,the **dimension = (60, 2)**\n",
    "- `Y_training` the labels for the each example, the **dimension = (60, 1)**\n",
    "- `alpha` the learning rate it used when updating the weights and should neither very small nor very big\n",
    "- `num_of_epochs` the number of iteration for training scope and updating the weights\n",
    "- `add_biase` boolean flage to add biase or not.\n",
    "\n",
    "<div class=\"alert alert-block alert-warning\">\n",
    "    <b>Note:</b> if  <b>add_biase</b> is False the line which split the data will pass through the origin and can't be shifted \n",
    "</div>\n",
    "\n"
   ]
  },
  {
   "cell_type": "code",
   "execution_count": 5,
   "metadata": {},
   "outputs": [],
   "source": [
    "def train(X_training, Y_training, alpha, num_of_epochs, add_biase):\n",
    "    W = np.random.randn(3, 1)\n",
    "    if add_biase == True:\n",
    "        X_training =  np.insert(X_training, 0, 1, axis=1)\n",
    "    else:\n",
    "        tmp = X_training\n",
    "        W[0,0] = 0\n",
    "        X_training = np.zeros((60, 3))\n",
    "        X_training [:, 1:3] = tmp\n",
    "        \n",
    "    \n",
    "    for i in range(num_of_epochs):\n",
    "        Y_pred = np.dot(X_training, W)\n",
    "        Y_pred = signum(Y_pred)\n",
    "        Loss = np.subtract(Y_training, Y_pred) #(60, 1)\n",
    "        W = W + np.dot(X_training.T ,(alpha * Loss)) #(3, 60) * (60, 1)\n",
    "    \n",
    "    '''for i in range (num_of_epochs):\n",
    "        for x in range(60):\n",
    "            y_pred = signum(np.dot(X_training[x, :], W))\n",
    "            if y_pred != Y_training[x, 0]:\n",
    "                L = Y_training[x, 0] - y_pred #Loss\n",
    "                K = X_training[x, :]\n",
    "                K = K[:,np.newaxis]\n",
    "                W = W + alpha*(L * K )'''\n",
    "            \n",
    "    return W"
   ]
  },
  {
   "cell_type": "markdown",
   "metadata": {},
   "source": [
    "# get_testing_predictions\n",
    "\n",
    "## Overview\n",
    "after training the neuron and get the line coffecients we need to test our model to know how well is that line do\n",
    "so, our startegy was splitting the data we are collected and take 60% for training and 40% for test the model.\n",
    "after that we can compare the predicted labels with the original labels and calculate the accuray of that model.\n",
    "\n",
    "***\n",
    "\n",
    "## Parameters\n",
    "\n",
    "1. `X-testing` the tetsing data **dimension = (40, 2)**\n",
    "1. `Y_testing` the correct labels of the X_testing **dimension = (40, 1)**\n",
    "1. `W` the line coffecients **dimenstion = (3, 1)**"
   ]
  },
  {
   "cell_type": "code",
   "execution_count": 6,
   "metadata": {},
   "outputs": [],
   "source": [
    "def get_testing_predictions(X_testing, Y_testing, W):\n",
    "    '''\n",
    "        X_Testing shape(40, 2)\n",
    "        adding biase parameter\n",
    "    '''\n",
    "    tmp = np.ones((40, 3))\n",
    "    tmp[:, 1:3] = X_testing\n",
    "    Y_pred = np.dot(tmp, W)\n",
    "    Y_pred = signum(Y_pred)\n",
    "    return Y_pred"
   ]
  },
  {
   "cell_type": "markdown",
   "metadata": {},
   "source": [
    "# `Plot_confusion_matrix`\n",
    "\n",
    "## Overview\n",
    "\n",
    "after training the model and passing the test set to calculate the accuracy we may need to know some statistics about the behaviour of the model. confusion matrix represents the recall and perecion of the model which means how many the model predict class 1 correctly and how many classify it wrongly and the same for class 2.\n",
    "\n",
    "***\n",
    "\n",
    "## Parametrs\n",
    "\n",
    "1. `Y_testing` the correct labels for testing set **dimension = (40, 1)**\n",
    "1. `Y_pred` the output model prediction for testing set **dimension = (40, 1)**"
   ]
  },
  {
   "cell_type": "code",
   "execution_count": 7,
   "metadata": {},
   "outputs": [],
   "source": [
    "def plot_confusion_matrix(Y_testing, Y_pred):\n",
    "    \n",
    "    result = confusion_matrix(Y_testing, Y_pred)\n",
    "    \n",
    "    df_cm = pd.DataFrame(result, range(2),\n",
    "                  range(2))\n",
    "    sn.set(font_scale=1.4)#for label size\n",
    "    sn.heatmap(df_cm, annot=True,annot_kws={\"size\": 16})\n",
    "    "
   ]
  },
  {
   "cell_type": "code",
   "execution_count": 12,
   "metadata": {},
   "outputs": [],
   "source": [
    "def plot_line(X_training, Y_training, W):\n",
    "    \n",
    "    X_training =  np.insert(X_training, 0, 1, axis=1)\n",
    "    \n",
    "    minn = min(X_training[:, 1])\n",
    "    maxx = max(X_training[:, 1])\n",
    "    x = [minn, maxx]\n",
    "    y = [(-W[0, 0]-W[1, 0]*minn)/W[2, 0], (-W[0, 0]-W[1, 0]*maxx)/W[2, 0]]\n",
    "    l1 =[]\n",
    "    l2 =[]\n",
    "    l3 =[]\n",
    "    l4 =[]\n",
    "\n",
    "    for i in range(40):\n",
    "        if Y_training[i] == 1:\n",
    "            l1.append(X_training[i, 1])\n",
    "            l2.append(X_training[i, 2])\n",
    "        else:\n",
    "            l3.append(X_training[i, 1])\n",
    "            l4.append(X_training[i, 2])\n",
    "\n",
    "    plt.plot(x, y)\n",
    "    plt.scatter(l1, l2, color='green')\n",
    "    plt.scatter(l3, l4, color='blue')\n",
    "    \n",
    "    plt.show()"
   ]
  },
  {
   "cell_type": "markdown",
   "metadata": {},
   "source": [
    "# `start_learning`\n",
    "\n",
    "## Overview\n",
    "\n",
    "this function is called when the user choose the features he need by which to train the model,\n",
    "classes that he need to classify among them , learning rate and number of training iterations.\n",
    "\n",
    "<div class=\"alert alert-block alert-info\">\n",
    "    <b>Tip:</b> this function is called when the user click in the <b>train</b> button and it will call the previous function \n",
    "</div>"
   ]
  },
  {
   "cell_type": "code",
   "execution_count": 9,
   "metadata": {},
   "outputs": [],
   "source": [
    "def start_learning():\n",
    "    features = [int(f1_entry.get()), int(f2_entry.get())]\n",
    "    classes = [int(c1_entry.get()), int(c2_entry.get())]\n",
    "    X_training, X_testing, Y_training, Y_testing = load_data(features=features, classes=classes)\n",
    "\n",
    "    add_biase = True if var.get()==0 else False\n",
    "    \n",
    "    W = train(X_training, Y_training,\n",
    "          alpha=float(eta_entry.get()),\n",
    "          num_of_epochs=int(epochs_entry.get()),\n",
    "              add_biase=add_biase)\n",
    "    \n",
    "    Y_pred = get_testing_predictions(X_testing, Y_testing, W)\n",
    "    accuracy = accuracy_score(Y_testing, Y_pred)\n",
    "    print('total all accuracy = ' + str(accuracy))\n",
    "    #plot_confusion_matrix(Y_testing, Y_pred)\n",
    "    \n",
    "    plot_line(X_testing, Y_testing, W)\n",
    "    "
   ]
  },
  {
   "cell_type": "markdown",
   "metadata": {},
   "source": [
    "# `GUI`"
   ]
  },
  {
   "cell_type": "code",
   "execution_count": null,
   "metadata": {
    "scrolled": false
   },
   "outputs": [
    {
     "name": "stdout",
     "output_type": "stream",
     "text": [
      "total all accuracy = 0.975\n"
     ]
    },
    {
     "data": {
      "image/png": "[encoded data removed]",
      "text/plain": [
       "<Figure size 432x288 with 1 Axes>"
      ]
     },
     "metadata": {
      "needs_background": "light"
     },
     "output_type": "display_data"
    }
   ],
   "source": [
    "root = tk.Tk()\n",
    "#root.geometry(\"350x200\")\n",
    "\n",
    "\n",
    "\n",
    "f1_label = tk.Label(root, text='Feature 1', padx=10).grid(row=0)\n",
    "\n",
    "f2_label = tk.Label(root, text='Feature 2', padx=10).grid(row=5)\n",
    "\n",
    "c1_label = tk.Label(root, text='Class 1', padx=10).grid(row=10)\n",
    "\n",
    "c2_label = tk.Label(root, text='Class 2', padx=10).grid(row=15)\n",
    "\n",
    "eta_label = tk.Label(root, text='learning Rate', padx=10).grid(row=20)\n",
    "\n",
    "epochs_label = tk.Label(root, text='Num Of Epochs', padx=10).grid(row=25)\n",
    "\n",
    "bias_label = tk.Label(root, text=\"add biase\", padx=10).grid(row=30)\n",
    "\n",
    "f1_entry = Entry(root)\n",
    "f2_entry = Entry(root)\n",
    "\n",
    "c1_entry = Entry(root)\n",
    "c2_entry = Entry(root)\n",
    "\n",
    "eta_entry = Entry(root)\n",
    "epochs_entry = Entry(root)\n",
    "\n",
    "f1_entry.grid(row=0, column=4)\n",
    "f2_entry.grid(row=5, column=4)\n",
    "\n",
    "c1_entry.grid(row=10, column=4)\n",
    "c2_entry.grid(row=15, column=4)\n",
    "\n",
    "eta_entry.grid(row=20, column=4)\n",
    "epochs_entry.grid(row=25, column=4)\n",
    "\n",
    "var = tk.IntVar()\n",
    "var.set(0)\n",
    "\n",
    "\n",
    "Radiobutton(root, text=\"yes\", variable=var, value=0).grid(row=30, column=1)\n",
    "Radiobutton(root, text=\"no\", variable=var, value=1).grid(row=30, column=4)\n",
    "\n",
    "submit = tk.Button(root, \n",
    "                   text=\"train\", \n",
    "                   fg=\"red\",\n",
    "                   command=start_learning).grid(row=50, column=3)\n",
    "\n",
    "\n",
    "\n",
    "root.mainloop()"
   ]
  },
  {
   "cell_type": "markdown",
   "metadata": {},
   "source": [
    "# `ploting all data`\n",
    "\n",
    "after loading data we need to visualize our data to know which features are discriminative"
   ]
  },
  {
   "cell_type": "code",
   "execution_count": 11,
   "metadata": {},
   "outputs": [
    {
     "data": {
      "image/png": "[encoded data removed]",
      "text/plain": [
       "<Figure size 432x288 with 1 Axes>"
      ]
     },
     "metadata": {
      "needs_background": "light"
     },
     "output_type": "display_data"
    },
    {
     "data": {
      "image/png": "[encoded data removed]",
      "text/plain": [
       "<Figure size 432x288 with 1 Axes>"
      ]
     },
     "metadata": {
      "needs_background": "light"
     },
     "output_type": "display_data"
    },
    {
     "data": {
      "image/png": "[encoded data removed]",
      "text/plain": [
       "<Figure size 432x288 with 1 Axes>"
      ]
     },
     "metadata": {
      "needs_background": "light"
     },
     "output_type": "display_data"
    },
    {
     "data": {
      "image/png": "[encoded data removed]",
      "text/plain": [
       "<Figure size 432x288 with 1 Axes>"
      ]
     },
     "metadata": {
      "needs_background": "light"
     },
     "output_type": "display_data"
    },
    {
     "data": {
      "image/png": "[encoded data removed]",
      "text/plain": [
       "<Figure size 432x288 with 1 Axes>"
      ]
     },
     "metadata": {
      "needs_background": "light"
     },
     "output_type": "display_data"
    },
    {
     "data": {
      "image/png": "[encoded data removed]",
      "text/plain": [
       "<Figure size 432x288 with 1 Axes>"
      ]
     },
     "metadata": {
      "needs_background": "light"
     },
     "output_type": "display_data"
    }
   ],
   "source": [
    "X, Y = load_data(all_data=True)\n",
    "plot(X[:,0], X[:,1])\n",
    "plot(X[:,0], X[:,2])\n",
    "plot(X[:,0], X[:,3])\n",
    "plot(X[:,1], X[:,2])\n",
    "plot(X[:,1], X[:,3])\n",
    "plot(X[:,2], X[:,3])"
   ]
  },
  {
   "cell_type": "code",
   "execution_count": null,
   "metadata": {},
   "outputs": [],
   "source": []
  }
 ],
 "metadata": {
  "kernelspec": {
   "display_name": "Python 3",
   "language": "python",
   "name": "python3"
  },
  "language_info": {
   "codemirror_mode": {
    "name": "ipython",
    "version": 3
   },
   "file_extension": ".py",
   "mimetype": "text/x-python",
   "name": "python",
   "nbconvert_exporter": "python",
   "pygments_lexer": "ipython3",
   "version": "3.6.8"
  }
 },
 "nbformat": 4,
 "nbformat_minor": 2
}
